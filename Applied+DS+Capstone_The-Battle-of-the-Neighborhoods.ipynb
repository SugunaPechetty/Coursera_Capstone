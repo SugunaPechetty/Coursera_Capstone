{
 "cells": [
  {
   "cell_type": "markdown",
   "metadata": {},
   "source": [
    "# Applied DS Capstone Project - The Battle of Neighborhoods"
   ]
  },
  {
   "cell_type": "markdown",
   "metadata": {},
   "source": [
    "### 1) Business Problem"
   ]
  },
  {
   "cell_type": "markdown",
   "metadata": {},
   "source": [
    "In a multi-ethnic, restaurant-heavy country like Canada, it can sometimes be a bit of a challenge to define what exactly counts as “Canadian food.” In general, most Canadians eat a largely “western” diet broadly similar to the diet of Americans and Europeans, with a heavy focus on processed grain and dairy products, farm-grown beef and chicken, certain cooked or fresh fruits and vegetables, and questionable amounts of salt and sugar. \n",
    "The demographics of Toronto, Ontario, Canada make Toronto one of the most multicultural and multiracial cities in the world. In 2016, 51.5% of the residents of the city proper belonged to a visible minority group, compared with 49.1% in 2011 and 13.6% in 1981.\n",
    "\n",
    "So as part of this project , we will list and visualize all major parts of Toronto City that has great indian resturants.\n",
    "\n",
    "The idea of this study is to help people planning to open a new restaurant in Toronto to chose the right location by providing data about the income and population of each neighborhood as well as the competitors already present on the same regions."
   ]
  },
  {
   "cell_type": "markdown",
   "metadata": {},
   "source": [
    "### 2) Data"
   ]
  },
  {
   "cell_type": "markdown",
   "metadata": {},
   "source": [
    "For this project we need the following data :\n",
    "\n",
    "Toronto City data that contains list Boroughs, Neighborhoods  \n",
    "**Source **: https://en.wikipedia.org/wiki/List_of_postal_codes_of_Canada:_M  \n",
    "This data set contains the required information. And we will use this data set to explore various neighborhoods of Toronto city. \n",
    "\n",
    "Indian resturants in each neighborhood of Toronto.  \n",
    "**Source** : Fousquare API  \n",
    "By using this api we will get all the venues in each neighborhood. We can filter these venues to get only indian resturants. \n",
    "\n",
    "GeoSpace data  \n",
    "**Source** : http://cocl.us/Geospatial_data  \n",
    "By using this geo space data we will get the Toronto Borough boundaries that will help us visualize choropleth map. "
   ]
  },
  {
   "cell_type": "markdown",
   "metadata": {},
   "source": [
    "### 3) Approach  \n",
    "- Collect the Toronto city data \n",
    "- Cleaned up data will be stored in a Dataframe for further processing\n",
    "- Using FourSquare API we will find all venues for each neighborhood.\n",
    "- Filter out all venues that are Indian Resturants.\n",
    "- Find rating , tips and like count for each Indian Resturants using FourSquare API.\n",
    "- Using rating for each resturant , we will sort that data.\n",
    "- Visualize the Ranking of neighborhoods using folium library(python)"
   ]
  },
  {
   "cell_type": "markdown",
   "metadata": {},
   "source": [
    "### 4) Questions that can be asked using the above mentioned datasets\n",
    "- What is best location in Toronto for Indian Cuisine ? \n",
    "- Which areas have potential Indian Resturant Market ? \n",
    "- Which all areas lack Indian Resturants ?\n",
    "- Which is the best place to stay if I prefer Indian Cuisine ?"
   ]
  },
  {
   "cell_type": "markdown",
   "metadata": {},
   "source": [
    "### 5) Analysis\n",
    "We will import the required libraries for python.\n",
    "\n",
    "- pandas and numpy for handling data.\n",
    "- request module for using FourSquare API.\n",
    "- geopy to get co-ordinates of City of Toronto.\n",
    "- folium to visualize the results on a map"
   ]
  },
  {
   "cell_type": "code",
   "execution_count": null,
   "metadata": {
    "collapsed": true
   },
   "outputs": [],
   "source": []
  }
 ],
 "metadata": {
  "kernelspec": {
   "display_name": "Python 3",
   "language": "python",
   "name": "python3"
  },
  "language_info": {
   "codemirror_mode": {
    "name": "ipython",
    "version": 3
   },
   "file_extension": ".py",
   "mimetype": "text/x-python",
   "name": "python",
   "nbconvert_exporter": "python",
   "pygments_lexer": "ipython3",
   "version": "3.6.3"
  }
 },
 "nbformat": 4,
 "nbformat_minor": 2
}
